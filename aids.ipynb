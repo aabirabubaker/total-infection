{
 "cells": [
  {
   "cell_type": "code",
   "execution_count": 40,
   "metadata": {
    "collapsed": false
   },
   "outputs": [],
   "source": [
    "import random as rand\n",
    "import statistics as s\n",
    "import numpy as np\n",
    "import os.path\n",
    "import math\n",
    "import scipy as sp\n",
    "import matplotlib.pyplot as plt\n",
    "\n",
    "%matplotlib inline"
   ]
  },
  {
   "cell_type": "code",
   "execution_count": 3,
   "metadata": {
    "collapsed": true
   },
   "outputs": [],
   "source": [
    "def check_N(N):\n",
    "    # checking if N is an even integer\n",
    "    N = int(N)\n",
    "    if N%2 != 0:\n",
    "        print(\"Taking N as N+1 = \", N+1)\n",
    "        N = N+1\n",
    "    return N"
   ]
  },
  {
   "cell_type": "code",
   "execution_count": 4,
   "metadata": {
    "collapsed": false
   },
   "outputs": [],
   "source": [
    "def montec_infection(f0, N, it_number = 100):\n",
    "    N = check_N(N) \n",
    "    genlist = []\n",
    "    # loop over it_number iterations    \n",
    "    for it in range(it_number):\n",
    "        f = np.array([f0])\n",
    "        \n",
    "        males =  np.array([False for i in range(int(N/2)) ])\n",
    "        females = np.array([False for i in range(int(N/2)) ])\n",
    "        \n",
    "        # number of infected people\n",
    "        infected = int(f[-1]*N)\n",
    "        \n",
    "        # select infected # of random indices from N\n",
    "        rand_indices = np.sort(rand.sample(range(N), infected))\n",
    "        for r in range(infected):\n",
    "            if rand_indices[r] >= int(N/2):\n",
    "                break\n",
    "        [inf_males, inf_females] = [rand_indices[0:r], rand_indices[r:]%int(N/2)]\n",
    "        #print(inf_males, inf_females)\n",
    "        for i in inf_males:\n",
    "            males[i] = True\n",
    "        for i in inf_females:\n",
    "            females[i] = True\n",
    "        \n",
    "        gen = 0\n",
    "        \n",
    "        \n",
    "        while(f[-1]!=1.0):\n",
    "            if f[-1] == 0:\n",
    "                print(\"Iteration #\", it, \" showed decrease of infected population to 0.\")\n",
    "                break\n",
    "            \n",
    "            # randomly shuffle both males and females\n",
    "            rand.shuffle(females)\n",
    "            rand.shuffle(males)\n",
    "            \n",
    "            # initialising the next generation of the population\n",
    "            next_males = [False for i in range(int(N/2))]\n",
    "            next_females = [False for i in range(int(N/2))]\n",
    "\n",
    "            next_infected = 0\n",
    "\n",
    "            for i in range(int(N/2)):\n",
    "                if( males[i] or females[i]):\n",
    "                    #print(\"HIV infected couple,both children are affected!\")\n",
    "                    next_infected = next_infected + 2\n",
    "                    next_males[i] = True\n",
    "                    next_females[i] = True\n",
    "                else:\n",
    "                    #print(\"Non-infected couple, both children are unaffected!\")\n",
    "                    next_males[i] = False\n",
    "                    next_females[i] = False\n",
    "            males = next_males\n",
    "            females = next_females\n",
    "            f = np.append(f, next_infected/N)        \n",
    "            \n",
    "            gen = gen + 1\n",
    "            \n",
    "        genlist.append(gen)            \n",
    "        \n",
    "        # writing the pdf of f\n",
    "        # note : if maximum number of generations is gen, number of lines in file is gen + 1\n",
    "        \n",
    "        fname = 'montec_results' + '/' + str(f0) + \"_\" + str(N) + '_pdf.txt'\n",
    "        with open(fname, 'a+') as file:\n",
    "            file.write(\" \".join(str(i) for i in f))\n",
    "            file.write('\\n')\n",
    "        \n",
    "        #print(\"Run # \", it+1, \" took \", gen, \" generations for total infection from f0 = \",f0)\n",
    "        \n",
    "    fname = 'montec_results' + '/' + str(f0) + \"_\" + str(N) + '_genlist.txt'\n",
    "    with open(fname, 'a+') as file:\n",
    "        file.write(\"\\n\".join(str(i) for i in genlist))\n",
    "        file.write('\\n')\n",
    "    \n",
    "    # completed it_number iterations\n",
    "    print('Completed ', it_number,' iterations with f0 = ', f0)\n",
    "    print(genlist)\n",
    "    \n",
    "    mean_gen = np.mean(genlist)\n",
    "    stdev_gen = np.std(genlist)\n",
    "    print(\"Average number of generations required for total infection with (f0 = \", f0, \") = \", mean_gen)\n",
    "\n"
   ]
  },
  {
   "cell_type": "code",
   "execution_count": 26,
   "metadata": {
    "collapsed": false
   },
   "outputs": [],
   "source": [
    "#montec_infection(0.01, 100, 2)"
   ]
  },
  {
   "cell_type": "code",
   "execution_count": 31,
   "metadata": {
    "collapsed": false
   },
   "outputs": [],
   "source": [
    "def montec_summary(f0, N):\n",
    "    fname = 'montec_results' + '/' + str(f0) + \"_\" + str(N) + '_pdf.txt'\n",
    "    #with open(fname, 'r') as file:\n",
    "        \n",
    "    \n",
    "    fname = 'montec_results' + '/' + str(f0) + \"_\" + str(N) + '_genlist.txt'\n",
    "    with open(fname, 'r') as file:\n",
    "        genlist = list(map(int, [l.strip() for l in file.readlines()]))\n",
    "        mean_gen = np.mean(genlist)\n",
    "        stdev_gen = np.std(genlist)  \n",
    "    print(mean_gen, stdev_gen)\n",
    "    return mean_gen, stdev_gen"
   ]
  },
  {
   "cell_type": "code",
   "execution_count": 32,
   "metadata": {
    "collapsed": false
   },
   "outputs": [
    {
     "name": "stdout",
     "output_type": "stream",
     "text": [
      "9.30769230769 0.538461538462\n"
     ]
    },
    {
     "data": {
      "text/plain": [
       "(9.3076923076923084, 0.53846153846153855)"
      ]
     },
     "execution_count": 32,
     "metadata": {},
     "output_type": "execute_result"
    }
   ],
   "source": [
    "montec_summary(0.01, 100)"
   ]
  },
  {
   "cell_type": "code",
   "execution_count": null,
   "metadata": {
    "collapsed": true
   },
   "outputs": [],
   "source": [
    "# break"
   ]
  },
  {
   "cell_type": "code",
   "execution_count": 6,
   "metadata": {
    "collapsed": true
   },
   "outputs": [],
   "source": [
    "def nCr(n,r):\n",
    "    f = math.factorial\n",
    "    return f(n) / f(r) / f(n-r)"
   ]
  },
  {
   "cell_type": "code",
   "execution_count": 17,
   "metadata": {
    "collapsed": true
   },
   "outputs": [],
   "source": [
    "def bin_P(n, x, p):\n",
    "    if x>n or x<0:\n",
    "        return 0\n",
    "    P = nCr(n, x) * p**x * (1-p)**(n-x)\n",
    "    return P"
   ]
  },
  {
   "cell_type": "code",
   "execution_count": 46,
   "metadata": {
    "collapsed": false
   },
   "outputs": [],
   "source": [
    "def binomial_matrix(dim):\n",
    "    # empty transition matrix\n",
    "    # for n individuals, the (i,j)th element is the probability that the number of infected couples goes from i to j\n",
    "    # in ONE step\n",
    "    t_mat = []\n",
    "    for i in np.arange(dim):\n",
    "        t_mat.append([])\n",
    "        for j in np.arange(dim):\n",
    "            t_mat[i].append(bin_P((dim-1), j, float(i/(dim-1))))\n",
    "    t_mat = np.array(t_mat)\n",
    "    return t_mat"
   ]
  },
  {
   "cell_type": "code",
   "execution_count": 93,
   "metadata": {
    "collapsed": false
   },
   "outputs": [],
   "source": [
    "def binomial_analysis(N, p, q, t):\n",
    "    N = check_N(N)\n",
    "    dim = int(N/2) + 1\n",
    "    p, q = check_N(p), check_N(q)\n",
    "    i, j = int(p/2), int(q/2)\n",
    "    # for couples in a population of N\n",
    "    trans = np.float64(binomial_matrix(dim))\n",
    "    t3d = [trans]\n",
    "    temp = np.float64(np.eye(trans.shape[0]))\n",
    "    for gen in range(1, t):\n",
    "        temp = np.float64(np.inner(temp, trans))\n",
    "        t3d.append(temp)\n",
    "    t3d = np.array(t3d)\n",
    "    \n",
    "    pij = [0]\n",
    "    # probabilities for i to j transition over a number of generations\n",
    "    for gen in range(t):\n",
    "        pij.append(t3d[gen,i,j])\n",
    "    plt.plot(np.arange(len(pij)), pij, 'r')\n",
    "    ytext = 'probability of (# infected) transition from ' + str(p) + 'to' + str(q)\n",
    "    plt.ylabel(ytext)\n",
    "    plt.xlabel('# generations')\n",
    "    plt.show()\n",
    "    #print(t3d.shape)\n",
    "    #print(pij)\n",
    "    "
   ]
  },
  {
   "cell_type": "code",
   "execution_count": 103,
   "metadata": {
    "collapsed": false
   },
   "outputs": [
    {
     "data": {
      "image/png": "[encoded data removed]",
      "text/plain": [
       "<matplotlib.figure.Figure at 0x7f778d77be10>"
      ]
     },
     "metadata": {},
     "output_type": "display_data"
    },
    {
     "name": "stdout",
     "output_type": "stream",
     "text": [
      "(10, 51, 51)\n"
     ]
    }
   ],
   "source": [
    "binomial_analysis(100, 10, 100, 10)"
   ]
  },
  {
   "cell_type": "code",
   "execution_count": null,
   "metadata": {
    "collapsed": false
   },
   "outputs": [],
   "source": [
    "# break"
   ]
  },
  {
   "cell_type": "code",
   "execution_count": null,
   "metadata": {
    "collapsed": false
   },
   "outputs": [],
   "source": [
    "def markov_prob(i, N):\n",
    "    f = np.float64(i/N)\n",
    "    fnext = [(f**2, np.float64((i-2)/(N-2)), (2*f*(1-f), np.float64((i-1)/(N-2))), ((1-f)**2, np.float64((i)/(N-2)))]\n",
    "    return fnext"
   ]
  },
  {
   "cell_type": "code",
   "execution_count": null,
   "metadata": {
    "collapsed": false
   },
   "outputs": [],
   "source": []
  },
  {
   "cell_type": "code",
   "execution_count": null,
   "metadata": {
    "collapsed": true
   },
   "outputs": [],
   "source": []
  }
 ],
 "metadata": {
  "kernelspec": {
   "display_name": "Python 3",
   "language": "python",
   "name": "python3"
  },
  "language_info": {
   "codemirror_mode": {
    "name": "ipython",
    "version": 3
   },
   "file_extension": ".py",
   "mimetype": "text/x-python",
   "name": "python",
   "nbconvert_exporter": "python",
   "pygments_lexer": "ipython3",
   "version": "3.6.0"
  }
 },
 "nbformat": 4,
 "nbformat_minor": 2
}
