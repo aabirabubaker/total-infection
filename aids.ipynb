{
 "cells": [
  {
   "cell_type": "code",
   "execution_count": 2,
   "metadata": {
    "collapsed": false
   },
   "outputs": [],
   "source": [
    "import random as rand\n",
    "import statistics as s\n",
    "import numpy as np\n",
    "import os.path\n",
    "import math\n",
    "import scipy as sp"
   ]
  },
  {
   "cell_type": "code",
   "execution_count": 3,
   "metadata": {
    "collapsed": true
   },
   "outputs": [],
   "source": [
    "def check_N(N):\n",
    "    # checking if N is an even integer\n",
    "    N = int(N)\n",
    "    if N%2 != 0:\n",
    "        print(\"Taking N as N+1 = \", N+1)\n",
    "        N = N+1\n",
    "    return N"
   ]
  },
  {
   "cell_type": "code",
   "execution_count": 4,
   "metadata": {
    "collapsed": false
   },
   "outputs": [],
   "source": [
    "def montec_infection(f0, N, it_number = 100):\n",
    "    N = check_N(N) \n",
    "    genlist = []\n",
    "    # loop over it_number iterations    \n",
    "    for it in range(it_number):\n",
    "        f = np.array([f0])\n",
    "        \n",
    "        males =  np.array([False for i in range(int(N/2)) ])\n",
    "        females = np.array([False for i in range(int(N/2)) ])\n",
    "        \n",
    "        # number of infected people\n",
    "        infected = int(f[-1]*N)\n",
    "        \n",
    "        # select infected # of random indices from N\n",
    "        rand_indices = np.sort(rand.sample(range(N), infected))\n",
    "        for r in range(infected):\n",
    "            if rand_indices[r] >= int(N/2):\n",
    "                break\n",
    "        [inf_males, inf_females] = [rand_indices[0:r], rand_indices[r:]%int(N/2)]\n",
    "        #print(inf_males, inf_females)\n",
    "        for i in inf_males:\n",
    "            males[i] = True\n",
    "        for i in inf_females:\n",
    "            females[i] = True\n",
    "        \n",
    "        gen = 0\n",
    "        \n",
    "        \n",
    "        while(f[-1]!=1.0):\n",
    "            if f[-1] == 0:\n",
    "                print(\"Iteration #\", it, \" showed decrease of infected population to 0.\")\n",
    "                break\n",
    "            \n",
    "            # randomly shuffle both males and females\n",
    "            rand.shuffle(females)\n",
    "            rand.shuffle(males)\n",
    "            \n",
    "            # initialising the next generation of the population\n",
    "            next_males = [False for i in range(int(N/2))]\n",
    "            next_females = [False for i in range(int(N/2))]\n",
    "\n",
    "            next_infected = 0\n",
    "\n",
    "            for i in range(int(N/2)):\n",
    "                if( males[i] or females[i]):\n",
    "                    #print(\"HIV infected couple,both children are affected!\")\n",
    "                    next_infected = next_infected + 2\n",
    "                    next_males[i] = True\n",
    "                    next_females[i] = True\n",
    "                else:\n",
    "                    #print(\"Non-infected couple, both children are unaffected!\")\n",
    "                    next_males[i] = False\n",
    "                    next_females[i] = False\n",
    "            males = next_males\n",
    "            females = next_females\n",
    "            f = np.append(f, next_infected/N)        \n",
    "            \n",
    "            gen = gen + 1\n",
    "            \n",
    "        genlist.append(gen)            \n",
    "        \n",
    "        # writing the pdf of f\n",
    "        # note : if maximum number of generations is gen, number of lines in file is gen + 1\n",
    "        \n",
    "        fname = 'montec_results' + '/' + str(f0) + \"_\" + str(N) + '_pdf.txt'\n",
    "        with open(fname, 'a+') as file:\n",
    "            file.write(\" \".join(str(i) for i in f))\n",
    "            file.write('\\n')\n",
    "        \n",
    "        #print(\"Run # \", it+1, \" took \", gen, \" generations for total infection from f0 = \",f0)\n",
    "        \n",
    "    fname = 'montec_results' + '/' + str(f0) + \"_\" + str(N) + '_genlist.txt'\n",
    "    with open(fname, 'a+') as file:\n",
    "        file.write(\"\\n\".join(str(i) for i in genlist))\n",
    "        file.write('\\n')\n",
    "    \n",
    "    # completed it_number iterations\n",
    "    print('Completed ', it_number,' iterations with f0 = ', f0)\n",
    "    print(genlist)\n",
    "    \n",
    "    mean_gen = s.mean(genlist)\n",
    "    stdev_gen = s.pstdev(genlist)\n",
    "    print(\"Average number of generations required for total infection with (f0 = \", f0, \") = \", mean_gen)\n",
    "\n"
   ]
  },
  {
   "cell_type": "code",
   "execution_count": 5,
   "metadata": {
    "collapsed": false
   },
   "outputs": [
    {
     "name": "stdout",
     "output_type": "stream",
     "text": [
      "Completed  2  iterations with f0 =  0.01\n",
      "[9, 9]\n",
      "Average number of generations required for total infection with (f0 =  0.01 ) =  9\n"
     ]
    }
   ],
   "source": [
    "#montec_infection(0.01, 100, 2)"
   ]
  },
  {
   "cell_type": "code",
   "execution_count": 6,
   "metadata": {
    "collapsed": true
   },
   "outputs": [],
   "source": [
    "def nCr(n,r):\n",
    "    f = math.factorial\n",
    "    return f(n) / f(r) / f(n-r)"
   ]
  },
  {
   "cell_type": "code",
   "execution_count": null,
   "metadata": {
    "collapsed": false
   },
   "outputs": [],
   "source": [
    "def binomial_matrix(N):\n",
    "    N = check_N(N)\n",
    "    # empty transition matrix\n",
    "    t_mat = np.zeros((dim, dim))\n",
    "    for i in np.arange(dim+1):\n",
    "        for j in np.arange(dim+1):\n",
    "            np.itemset(t_mat, (i, j), value)"
   ]
  },
  {
   "cell_type": "code",
   "execution_count": 9,
   "metadata": {
    "collapsed": false
   },
   "outputs": [],
   "source": [
    "def bin_p(n, x, p):\n",
    "    if x>n or x<0:\n",
    "        return 0\n",
    "    P = nCr(n, x) * p**x * (1-p)**(n-x)\n",
    "    return P"
   ]
  },
  {
   "cell_type": "code",
   "execution_count": null,
   "metadata": {
    "collapsed": false
   },
   "outputs": [],
   "source": []
  },
  {
   "cell_type": "code",
   "execution_count": 10,
   "metadata": {
    "collapsed": false
   },
   "outputs": [
    {
     "name": "stdout",
     "output_type": "stream",
     "text": [
      "0.9918999999999999\n"
     ]
    }
   ],
   "source": [
    "n, x, p = 4, 2, 0.3\n",
    "bin_p(n, x, p)\n",
    "s = 0\n",
    "for i in range(n):\n",
    "    s = s + bin_p(n, i, p)\n",
    "print(s)"
   ]
  },
  {
   "cell_type": "code",
   "execution_count": 11,
   "metadata": {
    "collapsed": false
   },
   "outputs": [
    {
     "data": {
      "text/plain": [
       "array([[ 0.,  0.,  0.,  0.],\n",
       "       [ 0.,  0.,  0.,  0.],\n",
       "       [ 0.,  0.,  0.,  0.]])"
      ]
     },
     "execution_count": 11,
     "metadata": {},
     "output_type": "execute_result"
    }
   ],
   "source": []
  },
  {
   "cell_type": "code",
   "execution_count": 16,
   "metadata": {
    "collapsed": false
   },
   "outputs": [
    {
     "name": "stdout",
     "output_type": "stream",
     "text": [
      "[ 0.          0.00666667  0.01333333  0.02        0.02666667  0.03333333\n",
      "  0.04        0.04666667  0.05333333  0.06        0.06666667  0.07333333\n",
      "  0.08        0.08666667  0.09333333  0.1         0.10666667  0.11333333\n",
      "  0.12        0.12666667  0.13333333  0.14        0.14666667  0.15333333\n",
      "  0.16        0.16666667  0.17333333  0.18        0.18666667  0.19333333\n",
      "  0.2         0.20666667  0.21333333  0.22        0.22666667  0.23333333\n",
      "  0.24        0.24666667  0.25333333  0.26        0.26666667  0.27333333\n",
      "  0.28        0.28666667  0.29333333  0.3         0.30666667  0.31333333\n",
      "  0.32        0.32666667  0.33333333  0.34        0.34666667  0.35333333\n",
      "  0.36        0.36666667  0.37333333  0.38        0.38666667  0.39333333\n",
      "  0.4         0.40666667  0.41333333  0.42        0.42666667  0.43333333\n",
      "  0.44        0.44666667  0.45333333  0.46        0.46666667  0.47333333\n",
      "  0.48        0.48666667  0.49333333  0.5         0.50666667  0.51333333\n",
      "  0.52        0.52666667  0.53333333  0.54        0.54666667  0.55333333\n",
      "  0.56        0.56666667  0.57333333  0.58        0.58666667  0.59333333\n",
      "  0.6         0.60666667  0.61333333  0.62        0.62666667  0.63333333\n",
      "  0.64        0.64666667  0.65333333  0.66        0.66666667  0.67333333\n",
      "  0.68        0.68666667  0.69333333  0.7         0.70666667  0.71333333\n",
      "  0.72        0.72666667  0.73333333  0.74        0.74666667  0.75333333\n",
      "  0.76        0.76666667  0.77333333  0.78        0.78666667  0.79333333\n",
      "  0.8         0.80666667  0.81333333  0.82        0.82666667  0.83333333\n",
      "  0.84        0.84666667  0.85333333  0.86        0.86666667  0.87333333\n",
      "  0.88        0.88666667  0.89333333  0.9         0.90666667  0.91333333\n",
      "  0.92        0.92666667  0.93333333  0.94        0.94666667  0.95333333\n",
      "  0.96        0.96666667  0.97333333  0.98        0.98666667  0.99333333\n",
      "  1.        ]\n",
      "151\n"
     ]
    }
   ],
   "source": []
  },
  {
   "cell_type": "code",
   "execution_count": null,
   "metadata": {
    "collapsed": true
   },
   "outputs": [],
   "source": []
  }
 ],
 "metadata": {
  "kernelspec": {
   "display_name": "Python 3",
   "language": "python",
   "name": "python3"
  },
  "language_info": {
   "codemirror_mode": {
    "name": "ipython",
    "version": 3
   },
   "file_extension": ".py",
   "mimetype": "text/x-python",
   "name": "python",
   "nbconvert_exporter": "python",
   "pygments_lexer": "ipython3",
   "version": "3.6.0"
  }
 },
 "nbformat": 4,
 "nbformat_minor": 2
}
